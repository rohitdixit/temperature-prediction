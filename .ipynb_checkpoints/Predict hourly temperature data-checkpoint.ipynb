{
 "cells": [
  {
   "cell_type": "markdown",
   "metadata": {},
   "source": [
    "# Predicting - Temperature\n",
    "## Input data"
   ]
  },
  {
   "cell_type": "code",
   "execution_count": 35,
   "metadata": {},
   "outputs": [],
   "source": [
    "startDate = \"2013-01-01\"\n",
    "endDate = \"2013-01-01\"\n",
    "num_timestamps = 24\n",
    "history = [34.38, 34.36, 34.74, 35.26, 35.23, 35.29, 35.64, 36.02,\\\n",
    "           36.1, 36.98, 37.01, 36.75, 36.01, 35.66, 34.72,\\\n",
    "           33.9, 32.62, 31.51, 30.73, 29.5, 26.94, 25.47, 23.84, 22.55]\n",
    "num_days_to_predict = 1\n",
    "sample_output = [36.02, 36.1, 36.98, 37.01, 36.75, 36.01, 35.66,\\\n",
    "                 34.72, 33.9, 32.62, 31.51, 30.73, 29.5, 26.94, 25.47,\\\n",
    "                 23.84, 22.55, 21.03, 19.92, 18.77, 18.48, 18.07, 17.91, 17.11]"
   ]
  },
  {
   "cell_type": "code",
   "execution_count": 36,
   "metadata": {},
   "outputs": [
    {
     "name": "stdout",
     "output_type": "stream",
     "text": [
      "<class 'list'> <class 'list'>\n"
     ]
    },
    {
     "data": {
      "text/plain": [
       "(None, 24, 24)"
      ]
     },
     "execution_count": 36,
     "metadata": {},
     "output_type": "execute_result"
    }
   ],
   "source": [
    "print(type(history), type(sample_output)), len(history), len(sample_output)"
   ]
  },
  {
   "cell_type": "markdown",
   "metadata": {},
   "source": [
    "## Import required packages"
   ]
  },
  {
   "cell_type": "code",
   "execution_count": 101,
   "metadata": {},
   "outputs": [],
   "source": [
    "import warnings\n",
    "import numpy as np\n",
    "import pandas as pd\n",
    "import matplotlib.pyplot as plt\n",
    "from statsmodels.tsa.arima_model import ARIMA\n",
    "from statsmodels.tsa.arima_model import ARIMAResults\n",
    "from sklearn.metrics import mean_squared_error\n",
    "plt.style.use('fivethirtyeight')"
   ]
  },
  {
   "cell_type": "markdown",
   "metadata": {},
   "source": [
    "### Generate a time series of hourly time stamps over a 24 hr period"
   ]
  },
  {
   "cell_type": "code",
   "execution_count": 124,
   "metadata": {},
   "outputs": [],
   "source": [
    "timeseries = pd.date_range('2013-01-01', periods=24, freq='H')\n"
   ]
  },
  {
   "cell_type": "code",
   "execution_count": 321,
   "metadata": {
    "scrolled": false
   },
   "outputs": [
    {
     "data": {
      "text/plain": [
       "DatetimeIndex(['2013-01-01 00:00:00', '2013-01-01 01:00:00',\n",
       "               '2013-01-01 02:00:00', '2013-01-01 03:00:00',\n",
       "               '2013-01-01 04:00:00', '2013-01-01 05:00:00',\n",
       "               '2013-01-01 06:00:00', '2013-01-01 07:00:00',\n",
       "               '2013-01-01 08:00:00', '2013-01-01 09:00:00',\n",
       "               '2013-01-01 10:00:00', '2013-01-01 11:00:00',\n",
       "               '2013-01-01 12:00:00', '2013-01-01 13:00:00',\n",
       "               '2013-01-01 14:00:00', '2013-01-01 15:00:00',\n",
       "               '2013-01-01 16:00:00', '2013-01-01 17:00:00',\n",
       "               '2013-01-01 18:00:00', '2013-01-01 19:00:00',\n",
       "               '2013-01-01 20:00:00', '2013-01-01 21:00:00',\n",
       "               '2013-01-01 22:00:00', '2013-01-01 23:00:00'],\n",
       "              dtype='datetime64[ns]', freq='H')"
      ]
     },
     "execution_count": 321,
     "metadata": {},
     "output_type": "execute_result"
    }
   ],
   "source": [
    "timeseries"
   ]
  },
  {
   "cell_type": "markdown",
   "metadata": {},
   "source": [
    "### Time indexed temprature pandas series for fitting an ARIMA model"
   ]
  },
  {
   "cell_type": "code",
   "execution_count": 169,
   "metadata": {},
   "outputs": [],
   "source": [
    "temp_ser = pd.Series(history, index = timeseries).astype(np.float)"
   ]
  },
  {
   "cell_type": "code",
   "execution_count": 170,
   "metadata": {
    "scrolled": true
   },
   "outputs": [
    {
     "data": {
      "image/png": "[encoded data removed]",
      "text/plain": [
       "<matplotlib.figure.Figure at 0x11d52e2b0>"
      ]
     },
     "metadata": {},
     "output_type": "display_data"
    }
   ],
   "source": [
    "temp_ser.plot()\n",
    "plt.show()\n",
    "### NOTE ### Assumption here is that the given temp data is from 12 am to 11pm on a given day.\\\n",
    "### Normal temp trend might not follow the below seen trend. I am not making any time-temp adjustments here ###"
   ]
  },
  {
   "cell_type": "markdown",
   "metadata": {},
   "source": [
    "### Let's fit a simple AR model with difference = 1 "
   ]
  },
  {
   "cell_type": "code",
   "execution_count": 331,
   "metadata": {
    "scrolled": false
   },
   "outputs": [
    {
     "name": "stdout",
     "output_type": "stream",
     "text": [
      "AIC score: 25.502276835878867\n",
      "predicted=30.480020, expected=30.730000\n",
      "AIC score: 25.79754053517774\n",
      "predicted=29.967245, expected=29.500000\n",
      "AIC score: 27.003717590254517\n",
      "predicted=28.550932, expected=26.940000\n",
      "AIC score: 38.92952389765793\n",
      "predicted=24.788322, expected=25.470000\n",
      "AIC score: 40.5237503737761\n",
      "predicted=23.832191, expected=23.840000\n",
      "AIC score: 40.99534355855895\n",
      "predicted=22.412296, expected=22.550000\n",
      "Test MSE: 0.560\n"
     ]
    },
    {
     "data": {
      "image/png": "[encoded data removed]",
      "text/plain": [
       "<matplotlib.figure.Figure at 0x11e3d6a20>"
      ]
     },
     "metadata": {},
     "output_type": "display_data"
    }
   ],
   "source": [
    "# Will not do an grid search for ordering parameters, simply try 2 values each for p and d...\n",
    "X = temp_ser.values\n",
    "size = int(len(X) * 0.75)\n",
    "train, test = X[0:size], X[size:len(X)]\n",
    "history = [x for x in train]\n",
    "predictions = list()\n",
    "for t in range(len(test)):\n",
    "    model = ARIMA(history, order=(2,1,0))\n",
    "    model_fit = model.fit(disp=0)\n",
    "    print('AIC score: {}'. format(model_fit.aic))\n",
    "    output = model_fit.forecast()\n",
    "    yhat = output[0]\n",
    "    predictions.append(yhat)\n",
    "    obs = test[t]\n",
    "    history.append(obs)\n",
    "    print('predicted=%f, expected=%f' % (yhat, obs))\n",
    "error = mean_squared_error(test, predictions)\n",
    "print('Test MSE: %.3f' % error)\n",
    "# plot\n",
    "plt.plot(test)\n",
    "plt.plot(predictions, color='red')\n",
    "plt.show()"
   ]
  },
  {
   "cell_type": "markdown",
   "metadata": {},
   "source": [
    "## Let's predict for the the next 24 steps"
   ]
  },
  {
   "cell_type": "code",
   "execution_count": 332,
   "metadata": {},
   "outputs": [
    {
     "data": {
      "text/plain": [
       "array([ 22.41229551,  21.05577668,  19.79594705,  18.6110476 ,\n",
       "        17.49571921,  16.44087389,  15.43983776,  14.48628237,\n",
       "        13.57474531,  12.70035437,  11.85881425,  11.04632258,\n",
       "        10.25951827,   9.49542878,   8.75142566,   8.02518455,\n",
       "         7.31465012,   6.61800482,   5.93364146,   5.26013881,\n",
       "         4.59624011,   3.94083401,   3.29293779,   2.65168242])"
      ]
     },
     "execution_count": 332,
     "metadata": {},
     "output_type": "execute_result"
    }
   ],
   "source": [
    "pred = model_fit.forecast(steps=24)\n",
    "pred[0]"
   ]
  },
  {
   "cell_type": "code",
   "execution_count": 335,
   "metadata": {},
   "outputs": [
    {
     "data": {
      "text/plain": [
       "[-13.60770448520125,\n",
       " -15.044223319334513,\n",
       " -17.184052946422664,\n",
       " -18.398952398773613,\n",
       " -19.254280790726941,\n",
       " -19.569126111376722,\n",
       " -20.220162243209018,\n",
       " -20.233717630084776,\n",
       " -20.325254687049732,\n",
       " -19.919645629571555,\n",
       " -19.651185752102634,\n",
       " -19.683677423509479,\n",
       " -19.24048172701923,\n",
       " -17.444571215990567,\n",
       " -16.718574343333586,\n",
       " -15.814815445704083,\n",
       " -15.235349882814088,\n",
       " -14.41199517884783,\n",
       " -13.986358538895837,\n",
       " -13.50986118798286,\n",
       " -13.883759891563768,\n",
       " -14.129165986396959,\n",
       " -14.61706220902205,\n",
       " -14.458317576966449]"
      ]
     },
     "execution_count": 335,
     "metadata": {},
     "output_type": "execute_result"
    }
   ],
   "source": [
    "delta = [i-j for i, j in zip(pred[0], sample_output)]\n",
    "delta"
   ]
  },
  {
   "cell_type": "markdown",
   "metadata": {},
   "source": [
    "## The delta is not within 5 deg. Centrigrade...\n",
    "> We can try grid search to tune the AR model above to improve the score or test other ML models"
   ]
  },
  {
   "cell_type": "markdown",
   "metadata": {},
   "source": [
    "# Forecasting with Machine Learning\n",
    "#### Support vector machines can be used for linear or non-linear regression modeling or classification, minimizing both the error on the training data while minimizing the complexity of the model. We can play with gamma to fit a non-linear trend optimaly..."
   ]
  },
  {
   "cell_type": "markdown",
   "metadata": {},
   "source": [
    "### Given data"
   ]
  },
  {
   "cell_type": "code",
   "execution_count": 255,
   "metadata": {},
   "outputs": [
    {
     "data": {
      "text/plain": [
       "(pandas.core.indexes.datetimes.DatetimeIndex, numpy.ndarray)"
      ]
     },
     "execution_count": 255,
     "metadata": {},
     "output_type": "execute_result"
    }
   ],
   "source": [
    "y = [34.38, 34.36, 34.74, 35.26, 35.23, 35.29, 35.64, 36.02,\\\n",
    "           36.1, 36.98, 37.01, 36.75, 36.01, 35.66, 34.72,\\\n",
    "           33.9, 32.62, 31.51, 30.73, 29.5, 26.94, 25.47, 23.84, 22.55]\n",
    "y = np.array(y)\n",
    "x = pd.date_range('2013-01-01', periods=24, freq='H')\n",
    "type(x), type(y)\n"
   ]
  },
  {
   "cell_type": "code",
   "execution_count": 256,
   "metadata": {},
   "outputs": [],
   "source": [
    "from sklearn import preprocessing as pre\n",
    "from sklearn import svm"
   ]
  },
  {
   "cell_type": "markdown",
   "metadata": {},
   "source": [
    "### Using preprocessing module we will normalization the x feature data which is a datetime object"
   ]
  },
  {
   "cell_type": "code",
   "execution_count": 257,
   "metadata": {},
   "outputs": [
    {
     "name": "stderr",
     "output_type": "stream",
     "text": [
      "/Users/admin/anaconda/lib/python3.6/site-packages/sklearn/utils/validation.py:429: DataConversionWarning: Data with input dtype datetime64[ns] was converted to float64 by StandardScaler.\n",
      "  warnings.warn(msg, _DataConversionWarning)\n",
      "/Users/admin/anaconda/lib/python3.6/site-packages/sklearn/preprocessing/data.py:586: DeprecationWarning: Passing 1d arrays as data is deprecated in 0.17 and will raise ValueError in 0.19. Reshape your data either using X.reshape(-1, 1) if your data has a single feature or X.reshape(1, -1) if it contains a single sample.\n",
      "  warnings.warn(DEPRECATION_MSG_1D, DeprecationWarning)\n",
      "/Users/admin/anaconda/lib/python3.6/site-packages/sklearn/preprocessing/data.py:649: DeprecationWarning: Passing 1d arrays as data is deprecated in 0.17 and will raise ValueError in 0.19. Reshape your data either using X.reshape(-1, 1) if your data has a single feature or X.reshape(1, -1) if it contains a single sample.\n",
      "  warnings.warn(DEPRECATION_MSG_1D, DeprecationWarning)\n"
     ]
    },
    {
     "data": {
      "text/plain": [
       "array([-1.66132477, -1.51686175, -1.37239873, -1.2279357 , -1.08347268,\n",
       "       -0.93900965, -0.79454663, -0.65008361, -0.50562058, -0.36115756,\n",
       "       -0.21669454, -0.07223151,  0.07223151,  0.21669454,  0.36115756,\n",
       "        0.50562058,  0.65008361,  0.79454663,  0.93900965,  1.08347268,\n",
       "        1.2279357 ,  1.37239873,  1.51686175,  1.66132477])"
      ]
     },
     "execution_count": 257,
     "metadata": {},
     "output_type": "execute_result"
    }
   ],
   "source": [
    "scaler = pre.StandardScaler().fit(x)\n",
    "x_scaled = scaler.transform(x)\n",
    "x_scaled"
   ]
  },
  {
   "cell_type": "markdown",
   "metadata": {},
   "source": [
    "## Reshaping the array's as 1-D array for the model fit"
   ]
  },
  {
   "cell_type": "code",
   "execution_count": 258,
   "metadata": {},
   "outputs": [],
   "source": [
    "x_scaled=x_scaled.reshape(-1,1)"
   ]
  },
  {
   "cell_type": "code",
   "execution_count": 259,
   "metadata": {},
   "outputs": [],
   "source": [
    "y=y.reshape(-1,1)"
   ]
  },
  {
   "cell_type": "code",
   "execution_count": 260,
   "metadata": {},
   "outputs": [
    {
     "data": {
      "text/plain": [
       "(24, 24)"
      ]
     },
     "execution_count": 260,
     "metadata": {},
     "output_type": "execute_result"
    }
   ],
   "source": [
    "len(x_scaled), len(y)"
   ]
  },
  {
   "cell_type": "code",
   "execution_count": 338,
   "metadata": {
    "scrolled": true
   },
   "outputs": [],
   "source": [
    "SVR_model = svm.SVR(kernel='rbf',C=10,gamma=1).fit(x_scaled,y.ravel())\n"
   ]
  },
  {
   "cell_type": "markdown",
   "metadata": {},
   "source": [
    "### Next we predict temp's for the following 24 hour period"
   ]
  },
  {
   "cell_type": "code",
   "execution_count": 339,
   "metadata": {},
   "outputs": [],
   "source": [
    "pred_test_x = np.array(pd.date_range('2013-01-02', periods=24, freq='H')).reshape(-1,1)"
   ]
  },
  {
   "cell_type": "code",
   "execution_count": 340,
   "metadata": {},
   "outputs": [
    {
     "name": "stderr",
     "output_type": "stream",
     "text": [
      "/Users/admin/anaconda/lib/python3.6/site-packages/sklearn/utils/validation.py:429: DataConversionWarning: Data with input dtype datetime64[ns] was converted to float64 by StandardScaler.\n",
      "  warnings.warn(msg, _DataConversionWarning)\n"
     ]
    }
   ],
   "source": [
    "scaler = pre.StandardScaler().fit(pred_test_x)\n",
    "x_test_scaled = scaler.transform(pred_test_x)\n"
   ]
  },
  {
   "cell_type": "code",
   "execution_count": 341,
   "metadata": {},
   "outputs": [
    {
     "data": {
      "text/plain": [
       "array([ 34.27991769,  34.51838996,  34.71256416,  34.89741729,\n",
       "        35.114256  ,  35.39382966,  35.73986076,  36.12017151,\n",
       "        36.47048187,  36.71092149,  36.76942563,  36.60240505,\n",
       "        36.20364286,  35.59748494,  34.81985652,  33.89681391,\n",
       "        32.83198481,  31.61027386,  30.21734661,  28.66641278,\n",
       "        27.01960347,  25.39285447,  23.9399177 ,  22.81978988])"
      ]
     },
     "execution_count": 341,
     "metadata": {},
     "output_type": "execute_result"
    }
   ],
   "source": [
    "predict_y_array = SVR_model.predict(x_test_scaled)\n",
    "\n",
    "predict_y_array"
   ]
  },
  {
   "cell_type": "code",
   "execution_count": 342,
   "metadata": {},
   "outputs": [
    {
     "data": {
      "text/plain": [
       "1.0"
      ]
     },
     "execution_count": 342,
     "metadata": {},
     "output_type": "execute_result"
    }
   ],
   "source": [
    "SVR_model.score(x_test_scaled,predict_y_array)\n",
    "\n"
   ]
  },
  {
   "cell_type": "markdown",
   "metadata": {},
   "source": [
    "## Performance with SVM"
   ]
  },
  {
   "cell_type": "code",
   "execution_count": 349,
   "metadata": {},
   "outputs": [
    {
     "data": {
      "text/plain": [
       "[-1.7400823083941859,\n",
       " -1.5816100413522278,\n",
       " -2.267435840732908,\n",
       " -2.1125827111957705,\n",
       " -1.6357439978063439,\n",
       " -0.61617033884102312,\n",
       " 0.079860759407694104,\n",
       " 1.4001715113665867,\n",
       " 2.5704818691082565,\n",
       " 4.0909214882766847,\n",
       " 5.2594256345883004,\n",
       " 5.8724050542917858,\n",
       " 6.7036428625186204,\n",
       " 8.6574849387064852,\n",
       " 9.3498565241032665,\n",
       " 10.056813909880628,\n",
       " 10.2819848094022,\n",
       " 10.580273857444613,\n",
       " 10.297346610569488,\n",
       " 9.8964127831658253,\n",
       " 8.5396034683962192,\n",
       " 7.3228544670196634,\n",
       " 6.0299176999196753,\n",
       " 5.7097898839569936]"
      ]
     },
     "execution_count": 349,
     "metadata": {},
     "output_type": "execute_result"
    }
   ],
   "source": [
    "svm_delta = [i-j for i, j in zip(predict_y_array, sample_output)]\n",
    "svm_delta"
   ]
  },
  {
   "cell_type": "code",
   "execution_count": 343,
   "metadata": {},
   "outputs": [
    {
     "data": {
      "image/png": "[encoded data removed]",
      "text/plain": [
       "<matplotlib.figure.Figure at 0x11cc32128>"
      ]
     },
     "metadata": {},
     "output_type": "display_data"
    }
   ],
   "source": [
    "plt.plot(y)\n",
    "plt.plot(predict_y_array)\n",
    "plt.show()"
   ]
  },
  {
   "cell_type": "markdown",
   "metadata": {},
   "source": [
    "# Conclusion: The SVM model performace is significantly improved over the ARIMA model\n",
    "> The Accuracy improved from zero to 45%\n",
    ">> The avobe SVM model was fit using the entire training data which in this case was preious days hourly temperature readings. So the model was highly overfit.\n",
    ">>> Using cross-validation and grid search we can genralize the model and this, along with other models will be explored further to expand the scope of this prediction analysis"
   ]
  }
 ],
 "metadata": {
  "kernelspec": {
   "display_name": "Python 3",
   "language": "python",
   "name": "python3"
  },
  "language_info": {
   "codemirror_mode": {
    "name": "ipython",
    "version": 3
   },
   "file_extension": ".py",
   "mimetype": "text/x-python",
   "name": "python",
   "nbconvert_exporter": "python",
   "pygments_lexer": "ipython3",
   "version": "3.6.3"
  }
 },
 "nbformat": 4,
 "nbformat_minor": 2
}
